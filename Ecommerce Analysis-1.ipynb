{
 "cells": [
  {
   "cell_type": "code",
   "execution_count": 1,
   "id": "5348828a",
   "metadata": {},
   "outputs": [],
   "source": [
    "#Importing numpy,pandas and matplotlib libraries\n",
    "import numpy as np\n",
    "import pandas as pd\n",
    "import matplotlib.pyplot as plt"
   ]
  },
  {
   "cell_type": "code",
   "execution_count": 2,
   "id": "6c067e18",
   "metadata": {},
   "outputs": [],
   "source": [
    "df=pd.read_csv(r\"C:\\Users\\rahul\\Downloads\\archive (6)\\data.csv\",encoding=\"iso-8859-1\")"
   ]
  },
  {
   "cell_type": "code",
   "execution_count": 10,
   "id": "609287c7",
   "metadata": {},
   "outputs": [
    {
     "data": {
      "text/html": [
       "<div>\n",
       "<style scoped>\n",
       "    .dataframe tbody tr th:only-of-type {\n",
       "        vertical-align: middle;\n",
       "    }\n",
       "\n",
       "    .dataframe tbody tr th {\n",
       "        vertical-align: top;\n",
       "    }\n",
       "\n",
       "    .dataframe thead th {\n",
       "        text-align: right;\n",
       "    }\n",
       "</style>\n",
       "<table border=\"1\" class=\"dataframe\">\n",
       "  <thead>\n",
       "    <tr style=\"text-align: right;\">\n",
       "      <th></th>\n",
       "      <th>InvoiceNo</th>\n",
       "      <th>StockCode</th>\n",
       "      <th>Description</th>\n",
       "      <th>Quantity</th>\n",
       "      <th>InvoiceDate</th>\n",
       "      <th>UnitPrice</th>\n",
       "      <th>CustomerID</th>\n",
       "      <th>Country</th>\n",
       "    </tr>\n",
       "  </thead>\n",
       "  <tbody>\n",
       "    <tr>\n",
       "      <th>0</th>\n",
       "      <td>536365</td>\n",
       "      <td>85123A</td>\n",
       "      <td>WHITE HANGING HEART T-LIGHT HOLDER</td>\n",
       "      <td>6</td>\n",
       "      <td>2010-12-01 08:26:00</td>\n",
       "      <td>2.55</td>\n",
       "      <td>17850.0</td>\n",
       "      <td>United Kingdom</td>\n",
       "    </tr>\n",
       "    <tr>\n",
       "      <th>1</th>\n",
       "      <td>536365</td>\n",
       "      <td>71053</td>\n",
       "      <td>WHITE METAL LANTERN</td>\n",
       "      <td>6</td>\n",
       "      <td>2010-12-01 08:26:00</td>\n",
       "      <td>3.39</td>\n",
       "      <td>17850.0</td>\n",
       "      <td>United Kingdom</td>\n",
       "    </tr>\n",
       "    <tr>\n",
       "      <th>2</th>\n",
       "      <td>536365</td>\n",
       "      <td>84406B</td>\n",
       "      <td>CREAM CUPID HEARTS COAT HANGER</td>\n",
       "      <td>8</td>\n",
       "      <td>2010-12-01 08:26:00</td>\n",
       "      <td>2.75</td>\n",
       "      <td>17850.0</td>\n",
       "      <td>United Kingdom</td>\n",
       "    </tr>\n",
       "    <tr>\n",
       "      <th>3</th>\n",
       "      <td>536365</td>\n",
       "      <td>84029G</td>\n",
       "      <td>KNITTED UNION FLAG HOT WATER BOTTLE</td>\n",
       "      <td>6</td>\n",
       "      <td>2010-12-01 08:26:00</td>\n",
       "      <td>3.39</td>\n",
       "      <td>17850.0</td>\n",
       "      <td>United Kingdom</td>\n",
       "    </tr>\n",
       "    <tr>\n",
       "      <th>4</th>\n",
       "      <td>536365</td>\n",
       "      <td>84029E</td>\n",
       "      <td>RED WOOLLY HOTTIE WHITE HEART.</td>\n",
       "      <td>6</td>\n",
       "      <td>2010-12-01 08:26:00</td>\n",
       "      <td>3.39</td>\n",
       "      <td>17850.0</td>\n",
       "      <td>United Kingdom</td>\n",
       "    </tr>\n",
       "  </tbody>\n",
       "</table>\n",
       "</div>"
      ],
      "text/plain": [
       "  InvoiceNo StockCode                          Description  Quantity  \\\n",
       "0    536365    85123A   WHITE HANGING HEART T-LIGHT HOLDER         6   \n",
       "1    536365     71053                  WHITE METAL LANTERN         6   \n",
       "2    536365    84406B       CREAM CUPID HEARTS COAT HANGER         8   \n",
       "3    536365    84029G  KNITTED UNION FLAG HOT WATER BOTTLE         6   \n",
       "4    536365    84029E       RED WOOLLY HOTTIE WHITE HEART.         6   \n",
       "\n",
       "          InvoiceDate  UnitPrice  CustomerID         Country  \n",
       "0 2010-12-01 08:26:00       2.55     17850.0  United Kingdom  \n",
       "1 2010-12-01 08:26:00       3.39     17850.0  United Kingdom  \n",
       "2 2010-12-01 08:26:00       2.75     17850.0  United Kingdom  \n",
       "3 2010-12-01 08:26:00       3.39     17850.0  United Kingdom  \n",
       "4 2010-12-01 08:26:00       3.39     17850.0  United Kingdom  "
      ]
     },
     "execution_count": 10,
     "metadata": {},
     "output_type": "execute_result"
    }
   ],
   "source": [
    "#displaying the first few rows\n",
    "df.head()"
   ]
  },
  {
   "cell_type": "code",
   "execution_count": 4,
   "id": "63b6ea02",
   "metadata": {},
   "outputs": [
    {
     "data": {
      "text/plain": [
       "InvoiceNo           0\n",
       "StockCode           0\n",
       "Description      1454\n",
       "Quantity            0\n",
       "InvoiceDate         0\n",
       "UnitPrice           0\n",
       "CustomerID     135080\n",
       "Country             0\n",
       "dtype: int64"
      ]
     },
     "execution_count": 4,
     "metadata": {},
     "output_type": "execute_result"
    }
   ],
   "source": [
    "#Checking the number of null values in this dataset\n",
    "missing_values=df.isnull().sum()\n",
    "missing_values"
   ]
  },
  {
   "cell_type": "code",
   "execution_count": 5,
   "id": "bad8f947",
   "metadata": {},
   "outputs": [],
   "source": [
    "#Replacing null values in description col to \"No Description\"\n",
    "df[\"Description\"].fillna(\"No Description\",inplace=True)"
   ]
  },
  {
   "cell_type": "code",
   "execution_count": 6,
   "id": "a38fd936",
   "metadata": {},
   "outputs": [],
   "source": [
    "df=df.dropna(subset=[\"CustomerID\"])"
   ]
  },
  {
   "cell_type": "code",
   "execution_count": 8,
   "id": "21bd714b",
   "metadata": {
    "scrolled": true
   },
   "outputs": [
    {
     "data": {
      "text/plain": [
       "InvoiceNo      0\n",
       "StockCode      0\n",
       "Description    0\n",
       "Quantity       0\n",
       "InvoiceDate    0\n",
       "UnitPrice      0\n",
       "CustomerID     0\n",
       "Country        0\n",
       "dtype: int64"
      ]
     },
     "execution_count": 8,
     "metadata": {},
     "output_type": "execute_result"
    }
   ],
   "source": [
    "df.isnull().sum()"
   ]
  },
  {
   "cell_type": "code",
   "execution_count": 9,
   "id": "1492e6ec",
   "metadata": {},
   "outputs": [],
   "source": [
    "#Changing Invoice Date column to a date time format\n",
    "df[\"InvoiceDate\"]=pd.to_datetime(df[\"InvoiceDate\"])"
   ]
  },
  {
   "cell_type": "code",
   "execution_count": 11,
   "id": "db71093e",
   "metadata": {},
   "outputs": [],
   "source": [
    "#Removing any row having quantity or unit price less than or =0\n",
    "df=df[(df[\"Quantity\"]>0) & (df[\"UnitPrice\"]>0)]"
   ]
  },
  {
   "cell_type": "code",
   "execution_count": null,
   "id": "99d39911",
   "metadata": {},
   "outputs": [],
   "source": [
    "EDA"
   ]
  },
  {
   "cell_type": "code",
   "execution_count": 13,
   "id": "4bb3f0e0",
   "metadata": {},
   "outputs": [
    {
     "name": "stdout",
     "output_type": "stream",
     "text": [
      "            Quantity      UnitPrice     CustomerID\n",
      "count  397884.000000  397884.000000  397884.000000\n",
      "mean       12.988238       3.116488   15294.423453\n",
      "std       179.331775      22.097877    1713.141560\n",
      "min         1.000000       0.001000   12346.000000\n",
      "25%         2.000000       1.250000   13969.000000\n",
      "50%         6.000000       1.950000   15159.000000\n",
      "75%        12.000000       3.750000   16795.000000\n",
      "max     80995.000000    8142.750000   18287.000000\n"
     ]
    }
   ],
   "source": [
    "summary_stats=df.describe()\n",
    "print(summary_stats)"
   ]
  },
  {
   "cell_type": "code",
   "execution_count": 14,
   "id": "af41624b",
   "metadata": {},
   "outputs": [
    {
     "data": {
      "text/plain": [
       "3877"
      ]
     },
     "execution_count": 14,
     "metadata": {},
     "output_type": "execute_result"
    }
   ],
   "source": [
    "#Counting all unique items sold\n",
    "Unique_Items_Count=df[\"Description\"].nunique()\n",
    "Unique_Items_Count"
   ]
  },
  {
   "cell_type": "code",
   "execution_count": 15,
   "id": "acb621d8",
   "metadata": {},
   "outputs": [],
   "source": [
    "#What are the Total Sales\n",
    "df[\"Sales\"]=df[\"Quantity\"]*df[\"UnitPrice\"]\n",
    "df[\"Sales\"]"
   ]
  },
  {
   "cell_type": "code",
   "execution_count": 17,
   "id": "8c14341d",
   "metadata": {},
   "outputs": [
    {
     "data": {
      "text/plain": [
       "Description\n",
       "PAPER CRAFT , LITTLE BIRDIE           168469.60\n",
       "REGENCY CAKESTAND 3 TIER              142592.95\n",
       "WHITE HANGING HEART T-LIGHT HOLDER    100448.15\n",
       "JUMBO BAG RED RETROSPOT                85220.78\n",
       "MEDIUM CERAMIC TOP STORAGE JAR         81416.73\n",
       "POSTAGE                                77803.96\n",
       "PARTY BUNTING                          68844.33\n",
       "ASSORTED COLOUR BIRD ORNAMENT          56580.34\n",
       "Manual                                 53779.93\n",
       "RABBIT NIGHT LIGHT                     51346.20\n",
       "Name: Sales, dtype: float64"
      ]
     },
     "execution_count": 17,
     "metadata": {},
     "output_type": "execute_result"
    }
   ],
   "source": [
    "#Top 10 Items sold ordered by sales\n",
    "Top_Items=df.groupby(\"Description\")[\"Sales\"].sum().sort_values(ascending=False).head(10)\n",
    "Top_Items"
   ]
  },
  {
   "cell_type": "code",
   "execution_count": 19,
   "id": "45cad8e2",
   "metadata": {},
   "outputs": [
    {
     "data": {
      "text/plain": [
       "Description\n",
       "PADS TO MATCH ALL CUSHIONS             0.003\n",
       "HEN HOUSE W CHICK IN NEST              0.420\n",
       "SET 12 COLOURING PENCILS DOILEY        0.650\n",
       "VINTAGE BLUE TINSEL REEL               0.840\n",
       "PINK CRYSTAL GUITAR PHONE CHARM        0.850\n",
       "PURPLE FRANGIPANI HAIRCLIP             0.850\n",
       "CAT WITH SUNGLASSES BLANK CARD         0.950\n",
       "HAPPY BIRTHDAY CARD TEDDY/CAKE         0.950\n",
       "60 GOLD AND SILVER FAIRY CAKE CASES    1.100\n",
       "PACK 4 FLOWER/BUTTERFLY PATCHES        1.250\n",
       "Name: Sales, dtype: float64"
      ]
     },
     "execution_count": 19,
     "metadata": {},
     "output_type": "execute_result"
    }
   ],
   "source": [
    "#Least sold items ordered by Sales\n",
    "Least_sold_Items=df.groupby(\"Description\")[\"Sales\"].sum().sort_values(ascending=True).head(10)\n",
    "Least_sold_Items"
   ]
  },
  {
   "cell_type": "code",
   "execution_count": 24,
   "id": "d4979065",
   "metadata": {
    "scrolled": true
   },
   "outputs": [],
   "source": [
    "#Product Popularity:Determine the most popular product based on quantity sold\n",
    "product_sales=df.groupby(\"Description\").agg(Total_Quantity_Sold=('Quantity','sum')).reset_index()\n",
    "product_sales_sorted=product_sales.sort_values(by=\"Total_Quantity_Sold\",ascending=False)"
   ]
  },
  {
   "cell_type": "code",
   "execution_count": 30,
   "id": "91d5bb22",
   "metadata": {},
   "outputs": [
    {
     "data": {
      "text/html": [
       "<div>\n",
       "<style scoped>\n",
       "    .dataframe tbody tr th:only-of-type {\n",
       "        vertical-align: middle;\n",
       "    }\n",
       "\n",
       "    .dataframe tbody tr th {\n",
       "        vertical-align: top;\n",
       "    }\n",
       "\n",
       "    .dataframe thead th {\n",
       "        text-align: right;\n",
       "    }\n",
       "</style>\n",
       "<table border=\"1\" class=\"dataframe\">\n",
       "  <thead>\n",
       "    <tr style=\"text-align: right;\">\n",
       "      <th></th>\n",
       "      <th>Description</th>\n",
       "      <th>Total_Quantity_Sold</th>\n",
       "    </tr>\n",
       "  </thead>\n",
       "  <tbody>\n",
       "    <tr>\n",
       "      <th>2319</th>\n",
       "      <td>PAPER CRAFT , LITTLE BIRDIE</td>\n",
       "      <td>80995</td>\n",
       "    </tr>\n",
       "    <tr>\n",
       "      <th>1992</th>\n",
       "      <td>MEDIUM CERAMIC TOP STORAGE JAR</td>\n",
       "      <td>77916</td>\n",
       "    </tr>\n",
       "    <tr>\n",
       "      <th>3786</th>\n",
       "      <td>WORLD WAR 2 GLIDERS ASSTD DESIGNS</td>\n",
       "      <td>54415</td>\n",
       "    </tr>\n",
       "    <tr>\n",
       "      <th>1762</th>\n",
       "      <td>JUMBO BAG RED RETROSPOT</td>\n",
       "      <td>46181</td>\n",
       "    </tr>\n",
       "    <tr>\n",
       "      <th>3698</th>\n",
       "      <td>WHITE HANGING HEART T-LIGHT HOLDER</td>\n",
       "      <td>36725</td>\n",
       "    </tr>\n",
       "    <tr>\n",
       "      <th>216</th>\n",
       "      <td>ASSORTED COLOUR BIRD ORNAMENT</td>\n",
       "      <td>35362</td>\n",
       "    </tr>\n",
       "    <tr>\n",
       "      <th>2269</th>\n",
       "      <td>PACK OF 72 RETROSPOT CAKE CASES</td>\n",
       "      <td>33693</td>\n",
       "    </tr>\n",
       "    <tr>\n",
       "      <th>2600</th>\n",
       "      <td>POPCORN HOLDER</td>\n",
       "      <td>30931</td>\n",
       "    </tr>\n",
       "    <tr>\n",
       "      <th>2656</th>\n",
       "      <td>RABBIT NIGHT LIGHT</td>\n",
       "      <td>27202</td>\n",
       "    </tr>\n",
       "    <tr>\n",
       "      <th>2047</th>\n",
       "      <td>MINI PAINT SET VINTAGE</td>\n",
       "      <td>26076</td>\n",
       "    </tr>\n",
       "  </tbody>\n",
       "</table>\n",
       "</div>"
      ],
      "text/plain": [
       "                             Description  Total_Quantity_Sold\n",
       "2319         PAPER CRAFT , LITTLE BIRDIE                80995\n",
       "1992      MEDIUM CERAMIC TOP STORAGE JAR                77916\n",
       "3786   WORLD WAR 2 GLIDERS ASSTD DESIGNS                54415\n",
       "1762             JUMBO BAG RED RETROSPOT                46181\n",
       "3698  WHITE HANGING HEART T-LIGHT HOLDER                36725\n",
       "216        ASSORTED COLOUR BIRD ORNAMENT                35362\n",
       "2269     PACK OF 72 RETROSPOT CAKE CASES                33693\n",
       "2600                      POPCORN HOLDER                30931\n",
       "2656                  RABBIT NIGHT LIGHT                27202\n",
       "2047             MINI PAINT SET VINTAGE                 26076"
      ]
     },
     "execution_count": 30,
     "metadata": {},
     "output_type": "execute_result"
    }
   ],
   "source": [
    "#Display Top 10 Products sold\n",
    "top10products=product_sales_sorted.head(10)\n",
    "top10products"
   ]
  },
  {
   "cell_type": "code",
   "execution_count": 29,
   "id": "fbf41149",
   "metadata": {},
   "outputs": [
    {
     "data": {
      "image/png": "[encoded data removed]",
      "text/plain": [
       "<Figure size 1200x800 with 1 Axes>"
      ]
     },
     "metadata": {},
     "output_type": "display_data"
    }
   ],
   "source": [
    "plt.figure(figsize=(12,8))\n",
    "plt.barh(top10products[\"Description\"],top10products[\"Total_Quantity_Sold\"])\n",
    "plt.xlabel(\"Total Quantity Sold\")\n",
    "plt.ylabel(\"Product Description\")\n",
    "plt.title(\"Top 10 Products Sold\")\n",
    "plt.gca().invert_yaxis()  #To have highest values at top\n",
    "plt.show()"
   ]
  },
  {
   "cell_type": "code",
   "execution_count": 35,
   "id": "83330356",
   "metadata": {},
   "outputs": [
    {
     "data": {
      "text/html": [
       "<div>\n",
       "<style scoped>\n",
       "    .dataframe tbody tr th:only-of-type {\n",
       "        vertical-align: middle;\n",
       "    }\n",
       "\n",
       "    .dataframe tbody tr th {\n",
       "        vertical-align: top;\n",
       "    }\n",
       "\n",
       "    .dataframe thead th {\n",
       "        text-align: right;\n",
       "    }\n",
       "</style>\n",
       "<table border=\"1\" class=\"dataframe\">\n",
       "  <thead>\n",
       "    <tr style=\"text-align: right;\">\n",
       "      <th></th>\n",
       "      <th>InvoiceNo</th>\n",
       "      <th>StockCode</th>\n",
       "      <th>Description</th>\n",
       "      <th>Quantity</th>\n",
       "      <th>InvoiceDate</th>\n",
       "      <th>UnitPrice</th>\n",
       "      <th>CustomerID</th>\n",
       "      <th>Country</th>\n",
       "      <th>Sales</th>\n",
       "    </tr>\n",
       "  </thead>\n",
       "  <tbody>\n",
       "    <tr>\n",
       "      <th>61619</th>\n",
       "      <td>541431</td>\n",
       "      <td>23166</td>\n",
       "      <td>MEDIUM CERAMIC TOP STORAGE JAR</td>\n",
       "      <td>74215</td>\n",
       "      <td>2011-01-18 10:01:00</td>\n",
       "      <td>1.04</td>\n",
       "      <td>12346.0</td>\n",
       "      <td>United Kingdom</td>\n",
       "      <td>77183.60</td>\n",
       "    </tr>\n",
       "    <tr>\n",
       "      <th>186770</th>\n",
       "      <td>552882</td>\n",
       "      <td>23166</td>\n",
       "      <td>MEDIUM CERAMIC TOP STORAGE JAR</td>\n",
       "      <td>96</td>\n",
       "      <td>2011-05-12 10:10:00</td>\n",
       "      <td>1.04</td>\n",
       "      <td>14646.0</td>\n",
       "      <td>Netherlands</td>\n",
       "      <td>99.84</td>\n",
       "    </tr>\n",
       "    <tr>\n",
       "      <th>187196</th>\n",
       "      <td>552953</td>\n",
       "      <td>23166</td>\n",
       "      <td>MEDIUM CERAMIC TOP STORAGE JAR</td>\n",
       "      <td>4</td>\n",
       "      <td>2011-05-12 12:11:00</td>\n",
       "      <td>1.25</td>\n",
       "      <td>16745.0</td>\n",
       "      <td>United Kingdom</td>\n",
       "      <td>5.00</td>\n",
       "    </tr>\n",
       "    <tr>\n",
       "      <th>187718</th>\n",
       "      <td>553005</td>\n",
       "      <td>23166</td>\n",
       "      <td>MEDIUM CERAMIC TOP STORAGE JAR</td>\n",
       "      <td>5</td>\n",
       "      <td>2011-05-12 16:29:00</td>\n",
       "      <td>1.25</td>\n",
       "      <td>14651.0</td>\n",
       "      <td>United Kingdom</td>\n",
       "      <td>6.25</td>\n",
       "    </tr>\n",
       "    <tr>\n",
       "      <th>187868</th>\n",
       "      <td>553009</td>\n",
       "      <td>23166</td>\n",
       "      <td>MEDIUM CERAMIC TOP STORAGE JAR</td>\n",
       "      <td>3</td>\n",
       "      <td>2011-05-12 16:52:00</td>\n",
       "      <td>1.25</td>\n",
       "      <td>13601.0</td>\n",
       "      <td>United Kingdom</td>\n",
       "      <td>3.75</td>\n",
       "    </tr>\n",
       "    <tr>\n",
       "      <th>...</th>\n",
       "      <td>...</td>\n",
       "      <td>...</td>\n",
       "      <td>...</td>\n",
       "      <td>...</td>\n",
       "      <td>...</td>\n",
       "      <td>...</td>\n",
       "      <td>...</td>\n",
       "      <td>...</td>\n",
       "      <td>...</td>\n",
       "    </tr>\n",
       "    <tr>\n",
       "      <th>526381</th>\n",
       "      <td>580665</td>\n",
       "      <td>23166</td>\n",
       "      <td>MEDIUM CERAMIC TOP STORAGE JAR</td>\n",
       "      <td>96</td>\n",
       "      <td>2011-12-05 14:06:00</td>\n",
       "      <td>1.04</td>\n",
       "      <td>16684.0</td>\n",
       "      <td>United Kingdom</td>\n",
       "      <td>99.84</td>\n",
       "    </tr>\n",
       "    <tr>\n",
       "      <th>531499</th>\n",
       "      <td>580956</td>\n",
       "      <td>23166</td>\n",
       "      <td>MEDIUM CERAMIC TOP STORAGE JAR</td>\n",
       "      <td>1</td>\n",
       "      <td>2011-12-06 14:23:00</td>\n",
       "      <td>1.25</td>\n",
       "      <td>17841.0</td>\n",
       "      <td>United Kingdom</td>\n",
       "      <td>1.25</td>\n",
       "    </tr>\n",
       "    <tr>\n",
       "      <th>532826</th>\n",
       "      <td>580997</td>\n",
       "      <td>23166</td>\n",
       "      <td>MEDIUM CERAMIC TOP STORAGE JAR</td>\n",
       "      <td>4</td>\n",
       "      <td>2011-12-06 17:23:00</td>\n",
       "      <td>1.25</td>\n",
       "      <td>15023.0</td>\n",
       "      <td>United Kingdom</td>\n",
       "      <td>5.00</td>\n",
       "    </tr>\n",
       "    <tr>\n",
       "      <th>533742</th>\n",
       "      <td>581108</td>\n",
       "      <td>23166</td>\n",
       "      <td>MEDIUM CERAMIC TOP STORAGE JAR</td>\n",
       "      <td>2</td>\n",
       "      <td>2011-12-07 12:16:00</td>\n",
       "      <td>1.25</td>\n",
       "      <td>15984.0</td>\n",
       "      <td>United Kingdom</td>\n",
       "      <td>2.50</td>\n",
       "    </tr>\n",
       "    <tr>\n",
       "      <th>540301</th>\n",
       "      <td>581476</td>\n",
       "      <td>23166</td>\n",
       "      <td>MEDIUM CERAMIC TOP STORAGE JAR</td>\n",
       "      <td>48</td>\n",
       "      <td>2011-12-09 08:48:00</td>\n",
       "      <td>1.04</td>\n",
       "      <td>12433.0</td>\n",
       "      <td>Norway</td>\n",
       "      <td>49.92</td>\n",
       "    </tr>\n",
       "  </tbody>\n",
       "</table>\n",
       "<p>198 rows × 9 columns</p>\n",
       "</div>"
      ],
      "text/plain": [
       "       InvoiceNo StockCode                     Description  Quantity  \\\n",
       "61619     541431     23166  MEDIUM CERAMIC TOP STORAGE JAR     74215   \n",
       "186770    552882     23166  MEDIUM CERAMIC TOP STORAGE JAR        96   \n",
       "187196    552953     23166  MEDIUM CERAMIC TOP STORAGE JAR         4   \n",
       "187718    553005     23166  MEDIUM CERAMIC TOP STORAGE JAR         5   \n",
       "187868    553009     23166  MEDIUM CERAMIC TOP STORAGE JAR         3   \n",
       "...          ...       ...                             ...       ...   \n",
       "526381    580665     23166  MEDIUM CERAMIC TOP STORAGE JAR        96   \n",
       "531499    580956     23166  MEDIUM CERAMIC TOP STORAGE JAR         1   \n",
       "532826    580997     23166  MEDIUM CERAMIC TOP STORAGE JAR         4   \n",
       "533742    581108     23166  MEDIUM CERAMIC TOP STORAGE JAR         2   \n",
       "540301    581476     23166  MEDIUM CERAMIC TOP STORAGE JAR        48   \n",
       "\n",
       "               InvoiceDate  UnitPrice  CustomerID         Country     Sales  \n",
       "61619  2011-01-18 10:01:00       1.04     12346.0  United Kingdom  77183.60  \n",
       "186770 2011-05-12 10:10:00       1.04     14646.0     Netherlands     99.84  \n",
       "187196 2011-05-12 12:11:00       1.25     16745.0  United Kingdom      5.00  \n",
       "187718 2011-05-12 16:29:00       1.25     14651.0  United Kingdom      6.25  \n",
       "187868 2011-05-12 16:52:00       1.25     13601.0  United Kingdom      3.75  \n",
       "...                    ...        ...         ...             ...       ...  \n",
       "526381 2011-12-05 14:06:00       1.04     16684.0  United Kingdom     99.84  \n",
       "531499 2011-12-06 14:23:00       1.25     17841.0  United Kingdom      1.25  \n",
       "532826 2011-12-06 17:23:00       1.25     15023.0  United Kingdom      5.00  \n",
       "533742 2011-12-07 12:16:00       1.25     15984.0  United Kingdom      2.50  \n",
       "540301 2011-12-09 08:48:00       1.04     12433.0          Norway     49.92  \n",
       "\n",
       "[198 rows x 9 columns]"
      ]
     },
     "execution_count": 35,
     "metadata": {},
     "output_type": "execute_result"
    }
   ],
   "source": [
    "birdie_data=df[df['Description']==\"MEDIUM CERAMIC TOP STORAGE JAR\"]\n",
    "birdie_data"
   ]
  },
  {
   "cell_type": "code",
   "execution_count": 36,
   "id": "31e64c00",
   "metadata": {},
   "outputs": [
    {
     "data": {
      "image/png": "[encoded data removed]",
      "text/plain": [
       "<Figure size 1400x700 with 1 Axes>"
      ]
     },
     "metadata": {},
     "output_type": "display_data"
    }
   ],
   "source": [
    "#Filter the DataFrame for MEDIUM CERAMIC TOP STORAGE JAR product\n",
    "birdie_data=df[df['Description']==\"MEDIUM CERAMIC TOP STORAGE JAR\"]\n",
    "\n",
    "#Group the data by month and sum up the quantities to see the total number sold over time\n",
    "birdie_data_sales_over_time=birdie_data.groupby(birdie_data[\"InvoiceDate\"].dt.to_period(\"M\"))[\"Quantity\"].sum().reset_index()\n",
    "\n",
    "#Convert the InvoiceDate from Period to Timestamp for plotting \n",
    "birdie_data_sales_over_time[\"InvoiceDate\"]=birdie_data_sales_over_time[\"InvoiceDate\"].dt.to_timestamp()\n",
    "\n",
    "#Plot the time-series for quantity of birdie sold\n",
    "plt.figure(figsize=(14,7))\n",
    "plt.plot(birdie_data_sales_over_time[\"InvoiceDate\"],birdie_data_sales_over_time[\"Quantity\"],marker=\"o\")\n",
    "plt.title(\"JAR SOLD OVER TIME\")\n",
    "plt.xlabel(\"Date\")\n",
    "plt.ylabel(\"Quantity Sold\")\n",
    "plt.grid(True)\n",
    "plt.show()\n"
   ]
  }
 ],
 "metadata": {
  "kernelspec": {
   "display_name": "Python 3 (ipykernel)",
   "language": "python",
   "name": "python3"
  },
  "language_info": {
   "codemirror_mode": {
    "name": "ipython",
    "version": 3
   },
   "file_extension": ".py",
   "mimetype": "text/x-python",
   "name": "python",
   "nbconvert_exporter": "python",
   "pygments_lexer": "ipython3",
   "version": "3.11.4"
  }
 },
 "nbformat": 4,
 "nbformat_minor": 5
}
